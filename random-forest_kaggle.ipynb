{
 "cells": [
  {
   "cell_type": "code",
   "execution_count": 1,
   "id": "61440a2d",
   "metadata": {
    "_cell_guid": "b1076dfc-b9ad-4769-8c92-a6c4dae69d19",
    "_uuid": "8f2839f25d086af736a60e9eeb907d3b93b6e0e5",
    "execution": {
     "iopub.execute_input": "2023-06-21T13:10:38.366724Z",
     "iopub.status.busy": "2023-06-21T13:10:38.366003Z",
     "iopub.status.idle": "2023-06-21T13:10:38.382583Z",
     "shell.execute_reply": "2023-06-21T13:10:38.381229Z"
    },
    "papermill": {
     "duration": 0.024471,
     "end_time": "2023-06-21T13:10:38.385093",
     "exception": false,
     "start_time": "2023-06-21T13:10:38.360622",
     "status": "completed"
    },
    "tags": []
   },
   "outputs": [
    {
     "name": "stdout",
     "output_type": "stream",
     "text": [
      "/kaggle/input/icr-identify-age-related-conditions/sample_submission.csv\n",
      "/kaggle/input/icr-identify-age-related-conditions/greeks.csv\n",
      "/kaggle/input/icr-identify-age-related-conditions/train.csv\n",
      "/kaggle/input/icr-identify-age-related-conditions/test.csv\n"
     ]
    }
   ],
   "source": [
    "# This Python 3 environment comes with many helpful analytics libraries installed\n",
    "# It is defined by the kaggle/python Docker image: https://github.com/kaggle/docker-python\n",
    "# For example, here's several helpful packages to load\n",
    "\n",
    "import numpy as np # linear algebra\n",
    "import pandas as pd # data processing, CSV file I/O (e.g. pd.read_csv)\n",
    "\n",
    "# Input data files are available in the read-only \"../input/\" directory\n",
    "# For example, running this (by clicking run or pressing Shift+Enter) will list all files under the input directory\n",
    "\n",
    "import os\n",
    "for dirname, _, filenames in os.walk('/kaggle/input'):\n",
    "    for filename in filenames:\n",
    "        print(os.path.join(dirname, filename))\n",
    "\n",
    "# You can write up to 20GB to the current directory (/kaggle/working/) that gets preserved as output when you create a version using \"Save & Run All\" \n",
    "# You can also write temporary files to /kaggle/temp/, but they won't be saved outside of the current session"
   ]
  },
  {
   "cell_type": "code",
   "execution_count": 2,
   "id": "9a3ed1c2",
   "metadata": {
    "execution": {
     "iopub.execute_input": "2023-06-21T13:10:38.393721Z",
     "iopub.status.busy": "2023-06-21T13:10:38.393041Z",
     "iopub.status.idle": "2023-06-21T13:10:40.585589Z",
     "shell.execute_reply": "2023-06-21T13:10:40.584207Z"
    },
    "papermill": {
     "duration": 2.200243,
     "end_time": "2023-06-21T13:10:40.588724",
     "exception": false,
     "start_time": "2023-06-21T13:10:38.388481",
     "status": "completed"
    },
    "tags": []
   },
   "outputs": [],
   "source": [
    "import numpy as np\n",
    "import pandas as pd\n",
    "from sklearn.compose import ColumnTransformer\n",
    "from sklearn.impute import SimpleImputer\n",
    "from sklearn.impute import KNNImputer\n",
    "from sklearn.preprocessing import OneHotEncoder\n",
    "from sklearn.pipeline import Pipeline\n",
    "from sklearn.preprocessing import FunctionTransformer\n",
    "from sklearn.decomposition import PCA\n",
    "from sklearn.ensemble import RandomForestClassifier\n",
    "df_train=pd.read_csv(\"/kaggle/input/icr-identify-age-related-conditions/train.csv\")\n",
    "X_test=pd.read_csv(\"/kaggle/input/icr-identify-age-related-conditions/test.csv\")"
   ]
  },
  {
   "cell_type": "code",
   "execution_count": 3,
   "id": "7419e8d7",
   "metadata": {
    "execution": {
     "iopub.execute_input": "2023-06-21T13:10:40.596941Z",
     "iopub.status.busy": "2023-06-21T13:10:40.596501Z",
     "iopub.status.idle": "2023-06-21T13:10:41.311475Z",
     "shell.execute_reply": "2023-06-21T13:10:41.310192Z"
    },
    "papermill": {
     "duration": 0.722283,
     "end_time": "2023-06-21T13:10:41.314223",
     "exception": false,
     "start_time": "2023-06-21T13:10:40.591940",
     "status": "completed"
    },
    "tags": []
   },
   "outputs": [
    {
     "data": {
      "text/plain": [
       "array([[0.5, 0.5],\n",
       "       [0.5, 0.5],\n",
       "       [0.5, 0.5],\n",
       "       [0.5, 0.5],\n",
       "       [0.5, 0.5]])"
      ]
     },
     "execution_count": 3,
     "metadata": {},
     "output_type": "execute_result"
    }
   ],
   "source": [
    "\n",
    "X=df_train.drop(\"Class\",inplace=False,axis=1)\n",
    "Y=df_train[\"Class\"]\n",
    "\n",
    "transformer1 = ColumnTransformer(transformers=[\n",
    "    ('remove_id', 'drop', ['Id','EJ']),\n",
    "    ('simple_impute',SimpleImputer(),['CB','CC','DU','FC','FL','FS','GL'])\n",
    "    #('OHE',OneHotEncoder(drop='first'),['EJ'])\n",
    "\n",
    "],remainder='passthrough')\n",
    "\n",
    "\n",
    "transformer2 = ColumnTransformer(\n",
    "    [('Knn_impute',KNNImputer(),slice(0, 55))]\n",
    "    ,remainder='passthrough')\n",
    "\n",
    "\n",
    "transformer3 = ColumnTransformer([\n",
    "    ('pca', PCA(n_components=34),slice(0, 55)),\n",
    "])\n",
    "\n",
    "Model = Pipeline([\n",
    "    ('preprocessing', transformer1),\n",
    "    ('impute', transformer2),\n",
    "    ('pca', transformer3),\n",
    "    ('rfc', RandomForestClassifier(random_state=0))\n",
    "])\n",
    "\n",
    "Model.fit(X,Y)\n",
    "predictions=Model.predict_proba(X_test)\n",
    "predictions"
   ]
  },
  {
   "cell_type": "code",
   "execution_count": 4,
   "id": "807f6012",
   "metadata": {
    "execution": {
     "iopub.execute_input": "2023-06-21T13:10:41.322933Z",
     "iopub.status.busy": "2023-06-21T13:10:41.322362Z",
     "iopub.status.idle": "2023-06-21T13:10:41.347207Z",
     "shell.execute_reply": "2023-06-21T13:10:41.346347Z"
    },
    "papermill": {
     "duration": 0.032679,
     "end_time": "2023-06-21T13:10:41.350231",
     "exception": false,
     "start_time": "2023-06-21T13:10:41.317552",
     "status": "completed"
    },
    "tags": []
   },
   "outputs": [
    {
     "name": "stdout",
     "output_type": "stream",
     "text": [
      "<class 'pandas.core.frame.DataFrame'>\n",
      "RangeIndex: 5 entries, 0 to 4\n",
      "Data columns (total 3 columns):\n",
      " #   Column   Non-Null Count  Dtype  \n",
      "---  ------   --------------  -----  \n",
      " 0   Id       5 non-null      object \n",
      " 1   class_0  5 non-null      float64\n",
      " 2   class_1  5 non-null      float64\n",
      "dtypes: float64(2), object(1)\n",
      "memory usage: 248.0+ bytes\n"
     ]
    }
   ],
   "source": [
    "sub = X_test[['Id']].copy().copy()\n",
    "sub['class_0'] = predictions[:,0]\n",
    "sub['class_1'] = predictions[:,1]\n",
    "sub.info()"
   ]
  },
  {
   "cell_type": "code",
   "execution_count": 5,
   "id": "91a10848",
   "metadata": {
    "execution": {
     "iopub.execute_input": "2023-06-21T13:10:41.359594Z",
     "iopub.status.busy": "2023-06-21T13:10:41.358667Z",
     "iopub.status.idle": "2023-06-21T13:10:41.370803Z",
     "shell.execute_reply": "2023-06-21T13:10:41.369782Z"
    },
    "papermill": {
     "duration": 0.019874,
     "end_time": "2023-06-21T13:10:41.373681",
     "exception": false,
     "start_time": "2023-06-21T13:10:41.353807",
     "status": "completed"
    },
    "tags": []
   },
   "outputs": [],
   "source": [
    "sub.to_csv('/kaggle/working/submission.csv', index=False)"
   ]
  }
 ],
 "metadata": {
  "kernelspec": {
   "display_name": "Python 3",
   "language": "python",
   "name": "python3"
  },
  "language_info": {
   "codemirror_mode": {
    "name": "ipython",
    "version": 3
   },
   "file_extension": ".py",
   "mimetype": "text/x-python",
   "name": "python",
   "nbconvert_exporter": "python",
   "pygments_lexer": "ipython3",
   "version": "3.10.10"
  },
  "papermill": {
   "default_parameters": {},
   "duration": 18.934962,
   "end_time": "2023-06-21T13:10:42.802068",
   "environment_variables": {},
   "exception": null,
   "input_path": "__notebook__.ipynb",
   "output_path": "__notebook__.ipynb",
   "parameters": {},
   "start_time": "2023-06-21T13:10:23.867106",
   "version": "2.4.0"
  }
 },
 "nbformat": 4,
 "nbformat_minor": 5
}
