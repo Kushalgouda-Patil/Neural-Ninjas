{
 "cells": [
  {
   "cell_type": "code",
   "execution_count": 1,
   "id": "ea8a5d2e",
   "metadata": {
    "_cell_guid": "b1076dfc-b9ad-4769-8c92-a6c4dae69d19",
    "_uuid": "8f2839f25d086af736a60e9eeb907d3b93b6e0e5",
    "execution": {
     "iopub.execute_input": "2023-07-29T13:54:01.831948Z",
     "iopub.status.busy": "2023-07-29T13:54:01.831085Z",
     "iopub.status.idle": "2023-07-29T13:54:01.855101Z",
     "shell.execute_reply": "2023-07-29T13:54:01.853633Z"
    },
    "papermill": {
     "duration": 0.033433,
     "end_time": "2023-07-29T13:54:01.858166",
     "exception": false,
     "start_time": "2023-07-29T13:54:01.824733",
     "status": "completed"
    },
    "tags": []
   },
   "outputs": [
    {
     "name": "stdout",
     "output_type": "stream",
     "text": [
      "/kaggle/input/icr-identify-age-related-conditions/sample_submission.csv\n",
      "/kaggle/input/icr-identify-age-related-conditions/greeks.csv\n",
      "/kaggle/input/icr-identify-age-related-conditions/train.csv\n",
      "/kaggle/input/icr-identify-age-related-conditions/test.csv\n"
     ]
    }
   ],
   "source": [
    "# This Python 3 environment comes with many helpful analytics libraries installed\n",
    "# It is defined by the kaggle/python Docker image: https://github.com/kaggle/docker-python\n",
    "# For example, here's several helpful packages to load\n",
    "\n",
    "import numpy as np # linear algebra\n",
    "import pandas as pd # data processing, CSV file I/O (e.g. pd.read_csv)\n",
    "\n",
    "# Input data files are available in the read-only \"../input/\" directory\n",
    "# For example, running this (by clicking run or pressing Shift+Enter) will list all files under the input directory\n",
    "\n",
    "import os\n",
    "for dirname, _, filenames in os.walk('/kaggle/input'):\n",
    "    for filename in filenames:\n",
    "        print(os.path.join(dirname, filename))\n",
    "\n",
    "# You can write up to 20GB to the current directory (/kaggle/working/) that gets preserved as output when you create a version using \"Save & Run All\" \n",
    "# You can also write temporary files to /kaggle/temp/, but they won't be saved outside of the current session"
   ]
  },
  {
   "cell_type": "code",
   "execution_count": 2,
   "id": "e6ef88ab",
   "metadata": {
    "execution": {
     "iopub.execute_input": "2023-07-29T13:54:01.867734Z",
     "iopub.status.busy": "2023-07-29T13:54:01.867345Z",
     "iopub.status.idle": "2023-07-29T13:54:03.915222Z",
     "shell.execute_reply": "2023-07-29T13:54:03.914255Z"
    },
    "papermill": {
     "duration": 2.055568,
     "end_time": "2023-07-29T13:54:03.917861",
     "exception": false,
     "start_time": "2023-07-29T13:54:01.862293",
     "status": "completed"
    },
    "tags": []
   },
   "outputs": [],
   "source": [
    "import numpy as np\n",
    "import pandas as pd\n",
    "from sklearn.impute import KNNImputer\n",
    "from sklearn.ensemble import RandomForestClassifier\n",
    "df_train=pd.read_csv(\"/kaggle/input/icr-identify-age-related-conditions/train.csv\")\n",
    "X_test=pd.read_csv(\"/kaggle/input/icr-identify-age-related-conditions/test.csv\")\n",
    "X_train=df_train.drop([\"Class\",\"Id\",\"EJ\"],inplace=False,axis=1)\n",
    "Y_train=df_train[\"Class\"]"
   ]
  },
  {
   "cell_type": "code",
   "execution_count": 3,
   "id": "16790e55",
   "metadata": {
    "execution": {
     "iopub.execute_input": "2023-07-29T13:54:03.927234Z",
     "iopub.status.busy": "2023-07-29T13:54:03.926833Z",
     "iopub.status.idle": "2023-07-29T13:54:03.971345Z",
     "shell.execute_reply": "2023-07-29T13:54:03.969739Z"
    },
    "papermill": {
     "duration": 0.054711,
     "end_time": "2023-07-29T13:54:03.976435",
     "exception": false,
     "start_time": "2023-07-29T13:54:03.921724",
     "status": "completed"
    },
    "tags": []
   },
   "outputs": [],
   "source": [
    "impute=KNNImputer()\n",
    "arr=impute.fit_transform(X_train)\n",
    "X_train=pd.DataFrame(arr,columns=impute.feature_names_in_)"
   ]
  },
  {
   "cell_type": "code",
   "execution_count": 4,
   "id": "ab3a4cfe",
   "metadata": {
    "execution": {
     "iopub.execute_input": "2023-07-29T13:54:03.994636Z",
     "iopub.status.busy": "2023-07-29T13:54:03.993804Z",
     "iopub.status.idle": "2023-07-29T13:54:04.005881Z",
     "shell.execute_reply": "2023-07-29T13:54:04.004772Z"
    },
    "papermill": {
     "duration": 0.026634,
     "end_time": "2023-07-29T13:54:04.010928",
     "exception": false,
     "start_time": "2023-07-29T13:54:03.984294",
     "status": "completed"
    },
    "tags": []
   },
   "outputs": [
    {
     "data": {
      "text/plain": [
       "'rfc=RandomForestClassifier()\\nrfc.fit(X_train,Y_train)\\nfeatures_array=np.concatenate((np.array(X_train.columns).reshape(-1,1),rfc.feature_importances_.reshape(-1,1)),axis=1)\\nindices=np.argsort(features_array[:,-1])\\nmost_imp_cols=list(features_array[indices[::-1]][:15,0])\\nmost_imp_cols'"
      ]
     },
     "execution_count": 4,
     "metadata": {},
     "output_type": "execute_result"
    }
   ],
   "source": [
    "'''rfc=RandomForestClassifier()\n",
    "rfc.fit(X_train,Y_train)\n",
    "features_array=np.concatenate((np.array(X_train.columns).reshape(-1,1),rfc.feature_importances_.reshape(-1,1)),axis=1)\n",
    "indices=np.argsort(features_array[:,-1])\n",
    "most_imp_cols=list(features_array[indices[::-1]][:15,0])\n",
    "most_imp_cols'''"
   ]
  },
  {
   "cell_type": "code",
   "execution_count": 5,
   "id": "bd42b02b",
   "metadata": {
    "execution": {
     "iopub.execute_input": "2023-07-29T13:54:04.028969Z",
     "iopub.status.busy": "2023-07-29T13:54:04.028343Z",
     "iopub.status.idle": "2023-07-29T13:54:04.035869Z",
     "shell.execute_reply": "2023-07-29T13:54:04.034778Z"
    },
    "papermill": {
     "duration": 0.020817,
     "end_time": "2023-07-29T13:54:04.039540",
     "exception": false,
     "start_time": "2023-07-29T13:54:04.018723",
     "status": "completed"
    },
    "tags": []
   },
   "outputs": [],
   "source": [
    "most_imp_cols=['DU',\n",
    " 'FL',\n",
    " 'GL',\n",
    " 'DA',\n",
    " 'BC',\n",
    " 'CR',\n",
    " 'DI',\n",
    " 'DE',\n",
    " 'EH',\n",
    " 'AB',\n",
    " 'AF',\n",
    " 'FR',\n",
    " 'FD ',\n",
    " 'FE',\n",
    " 'BQ']"
   ]
  },
  {
   "cell_type": "code",
   "execution_count": 6,
   "id": "4a7d664b",
   "metadata": {
    "execution": {
     "iopub.execute_input": "2023-07-29T13:54:04.057097Z",
     "iopub.status.busy": "2023-07-29T13:54:04.056421Z",
     "iopub.status.idle": "2023-07-29T13:54:04.404444Z",
     "shell.execute_reply": "2023-07-29T13:54:04.403277Z"
    },
    "papermill": {
     "duration": 0.359422,
     "end_time": "2023-07-29T13:54:04.406707",
     "exception": false,
     "start_time": "2023-07-29T13:54:04.047285",
     "status": "completed"
    },
    "tags": []
   },
   "outputs": [
    {
     "data": {
      "text/plain": [
       "array([[0.59, 0.41],\n",
       "       [0.59, 0.41],\n",
       "       [0.59, 0.41],\n",
       "       [0.59, 0.41],\n",
       "       [0.59, 0.41]])"
      ]
     },
     "execution_count": 6,
     "metadata": {},
     "output_type": "execute_result"
    }
   ],
   "source": [
    "rfc=RandomForestClassifier()\n",
    "rfc.fit(X_train[most_imp_cols],Y_train)\n",
    "predictions=rfc.predict_proba(X_test[most_imp_cols])\n",
    "predictions"
   ]
  },
  {
   "cell_type": "code",
   "execution_count": 7,
   "id": "8f9642f2",
   "metadata": {
    "execution": {
     "iopub.execute_input": "2023-07-29T13:54:04.416406Z",
     "iopub.status.busy": "2023-07-29T13:54:04.415990Z",
     "iopub.status.idle": "2023-07-29T13:54:04.442831Z",
     "shell.execute_reply": "2023-07-29T13:54:04.440797Z"
    },
    "papermill": {
     "duration": 0.034892,
     "end_time": "2023-07-29T13:54:04.445632",
     "exception": false,
     "start_time": "2023-07-29T13:54:04.410740",
     "status": "completed"
    },
    "tags": []
   },
   "outputs": [
    {
     "name": "stdout",
     "output_type": "stream",
     "text": [
      "<class 'pandas.core.frame.DataFrame'>\n",
      "RangeIndex: 5 entries, 0 to 4\n",
      "Data columns (total 3 columns):\n",
      " #   Column   Non-Null Count  Dtype  \n",
      "---  ------   --------------  -----  \n",
      " 0   Id       5 non-null      object \n",
      " 1   class_0  5 non-null      float64\n",
      " 2   class_1  5 non-null      float64\n",
      "dtypes: float64(2), object(1)\n",
      "memory usage: 248.0+ bytes\n"
     ]
    }
   ],
   "source": [
    "sub = X_test[['Id']].copy().copy()\n",
    "sub['class_0'] = predictions[:,0]\n",
    "sub['class_1'] = predictions[:,1]\n",
    "sub.info()"
   ]
  },
  {
   "cell_type": "code",
   "execution_count": 8,
   "id": "e9b8a268",
   "metadata": {
    "execution": {
     "iopub.execute_input": "2023-07-29T13:54:04.455452Z",
     "iopub.status.busy": "2023-07-29T13:54:04.455064Z",
     "iopub.status.idle": "2023-07-29T13:54:04.468219Z",
     "shell.execute_reply": "2023-07-29T13:54:04.467079Z"
    },
    "papermill": {
     "duration": 0.020982,
     "end_time": "2023-07-29T13:54:04.470780",
     "exception": false,
     "start_time": "2023-07-29T13:54:04.449798",
     "status": "completed"
    },
    "tags": []
   },
   "outputs": [],
   "source": [
    "sub.to_csv('/kaggle/working/submission.csv', index=False)"
   ]
  }
 ],
 "metadata": {
  "kernelspec": {
   "display_name": "Python 3",
   "language": "python",
   "name": "python3"
  },
  "language_info": {
   "codemirror_mode": {
    "name": "ipython",
    "version": 3
   },
   "file_extension": ".py",
   "mimetype": "text/x-python",
   "name": "python",
   "nbconvert_exporter": "python",
   "pygments_lexer": "ipython3",
   "version": "3.10.10"
  },
  "papermill": {
   "default_parameters": {},
   "duration": 17.122167,
   "end_time": "2023-07-29T13:54:05.496915",
   "environment_variables": {},
   "exception": null,
   "input_path": "__notebook__.ipynb",
   "output_path": "__notebook__.ipynb",
   "parameters": {},
   "start_time": "2023-07-29T13:53:48.374748",
   "version": "2.4.0"
  }
 },
 "nbformat": 4,
 "nbformat_minor": 5
}
