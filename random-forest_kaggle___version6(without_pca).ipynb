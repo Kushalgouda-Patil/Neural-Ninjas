{
 "cells": [
  {
   "cell_type": "code",
   "execution_count": 1,
   "id": "19e636e7",
   "metadata": {
    "_cell_guid": "b1076dfc-b9ad-4769-8c92-a6c4dae69d19",
    "_uuid": "8f2839f25d086af736a60e9eeb907d3b93b6e0e5",
    "execution": {
     "iopub.execute_input": "2023-07-02T17:43:51.724024Z",
     "iopub.status.busy": "2023-07-02T17:43:51.723613Z",
     "iopub.status.idle": "2023-07-02T17:43:51.738438Z",
     "shell.execute_reply": "2023-07-02T17:43:51.737613Z"
    },
    "papermill": {
     "duration": 0.022845,
     "end_time": "2023-07-02T17:43:51.740834",
     "exception": false,
     "start_time": "2023-07-02T17:43:51.717989",
     "status": "completed"
    },
    "tags": []
   },
   "outputs": [
    {
     "name": "stdout",
     "output_type": "stream",
     "text": [
      "/kaggle/input/icr-identify-age-related-conditions/sample_submission.csv\n",
      "/kaggle/input/icr-identify-age-related-conditions/greeks.csv\n",
      "/kaggle/input/icr-identify-age-related-conditions/train.csv\n",
      "/kaggle/input/icr-identify-age-related-conditions/test.csv\n"
     ]
    }
   ],
   "source": [
    "# This Python 3 environment comes with many helpful analytics libraries installed\n",
    "# It is defined by the kaggle/python Docker image: https://github.com/kaggle/docker-python\n",
    "# For example, here's several helpful packages to load\n",
    "\n",
    "import numpy as np # linear algebra\n",
    "import pandas as pd # data processing, CSV file I/O (e.g. pd.read_csv)\n",
    "\n",
    "# Input data files are available in the read-only \"../input/\" directory\n",
    "# For example, running this (by clicking run or pressing Shift+Enter) will list all files under the input directory\n",
    "\n",
    "import os\n",
    "for dirname, _, filenames in os.walk('/kaggle/input'):\n",
    "    for filename in filenames:\n",
    "        print(os.path.join(dirname, filename))\n",
    "\n",
    "# You can write up to 20GB to the current directory (/kaggle/working/) that gets preserved as output when you create a version using \"Save & Run All\" \n",
    "# You can also write temporary files to /kaggle/temp/, but they won't be saved outside of the current session"
   ]
  },
  {
   "cell_type": "code",
   "execution_count": 2,
   "id": "0469c721",
   "metadata": {
    "execution": {
     "iopub.execute_input": "2023-07-02T17:43:51.749462Z",
     "iopub.status.busy": "2023-07-02T17:43:51.748778Z",
     "iopub.status.idle": "2023-07-02T17:43:53.784993Z",
     "shell.execute_reply": "2023-07-02T17:43:53.783542Z"
    },
    "papermill": {
     "duration": 2.043783,
     "end_time": "2023-07-02T17:43:53.788094",
     "exception": false,
     "start_time": "2023-07-02T17:43:51.744311",
     "status": "completed"
    },
    "tags": []
   },
   "outputs": [],
   "source": [
    "import numpy as np\n",
    "import pandas as pd\n",
    "from sklearn.compose import ColumnTransformer\n",
    "from sklearn.impute import SimpleImputer\n",
    "from sklearn.impute import KNNImputer\n",
    "from sklearn.preprocessing import OneHotEncoder\n",
    "from sklearn.pipeline import Pipeline\n",
    "from sklearn.preprocessing import FunctionTransformer\n",
    "from sklearn.decomposition import PCA\n",
    "from sklearn.ensemble import RandomForestClassifier\n",
    "df_train=pd.read_csv(\"/kaggle/input/icr-identify-age-related-conditions/train.csv\")\n",
    "X_test=pd.read_csv(\"/kaggle/input/icr-identify-age-related-conditions/test.csv\")"
   ]
  },
  {
   "cell_type": "code",
   "execution_count": 3,
   "id": "3012377f",
   "metadata": {
    "execution": {
     "iopub.execute_input": "2023-07-02T17:43:53.796622Z",
     "iopub.status.busy": "2023-07-02T17:43:53.796134Z",
     "iopub.status.idle": "2023-07-02T17:43:54.405730Z",
     "shell.execute_reply": "2023-07-02T17:43:54.404367Z"
    },
    "papermill": {
     "duration": 0.61711,
     "end_time": "2023-07-02T17:43:54.408618",
     "exception": false,
     "start_time": "2023-07-02T17:43:53.791508",
     "status": "completed"
    },
    "tags": []
   },
   "outputs": [
    {
     "data": {
      "text/html": [
       "<style>#sk-container-id-1 {color: black;background-color: white;}#sk-container-id-1 pre{padding: 0;}#sk-container-id-1 div.sk-toggleable {background-color: white;}#sk-container-id-1 label.sk-toggleable__label {cursor: pointer;display: block;width: 100%;margin-bottom: 0;padding: 0.3em;box-sizing: border-box;text-align: center;}#sk-container-id-1 label.sk-toggleable__label-arrow:before {content: \"▸\";float: left;margin-right: 0.25em;color: #696969;}#sk-container-id-1 label.sk-toggleable__label-arrow:hover:before {color: black;}#sk-container-id-1 div.sk-estimator:hover label.sk-toggleable__label-arrow:before {color: black;}#sk-container-id-1 div.sk-toggleable__content {max-height: 0;max-width: 0;overflow: hidden;text-align: left;background-color: #f0f8ff;}#sk-container-id-1 div.sk-toggleable__content pre {margin: 0.2em;color: black;border-radius: 0.25em;background-color: #f0f8ff;}#sk-container-id-1 input.sk-toggleable__control:checked~div.sk-toggleable__content {max-height: 200px;max-width: 100%;overflow: auto;}#sk-container-id-1 input.sk-toggleable__control:checked~label.sk-toggleable__label-arrow:before {content: \"▾\";}#sk-container-id-1 div.sk-estimator input.sk-toggleable__control:checked~label.sk-toggleable__label {background-color: #d4ebff;}#sk-container-id-1 div.sk-label input.sk-toggleable__control:checked~label.sk-toggleable__label {background-color: #d4ebff;}#sk-container-id-1 input.sk-hidden--visually {border: 0;clip: rect(1px 1px 1px 1px);clip: rect(1px, 1px, 1px, 1px);height: 1px;margin: -1px;overflow: hidden;padding: 0;position: absolute;width: 1px;}#sk-container-id-1 div.sk-estimator {font-family: monospace;background-color: #f0f8ff;border: 1px dotted black;border-radius: 0.25em;box-sizing: border-box;margin-bottom: 0.5em;}#sk-container-id-1 div.sk-estimator:hover {background-color: #d4ebff;}#sk-container-id-1 div.sk-parallel-item::after {content: \"\";width: 100%;border-bottom: 1px solid gray;flex-grow: 1;}#sk-container-id-1 div.sk-label:hover label.sk-toggleable__label {background-color: #d4ebff;}#sk-container-id-1 div.sk-serial::before {content: \"\";position: absolute;border-left: 1px solid gray;box-sizing: border-box;top: 0;bottom: 0;left: 50%;z-index: 0;}#sk-container-id-1 div.sk-serial {display: flex;flex-direction: column;align-items: center;background-color: white;padding-right: 0.2em;padding-left: 0.2em;position: relative;}#sk-container-id-1 div.sk-item {position: relative;z-index: 1;}#sk-container-id-1 div.sk-parallel {display: flex;align-items: stretch;justify-content: center;background-color: white;position: relative;}#sk-container-id-1 div.sk-item::before, #sk-container-id-1 div.sk-parallel-item::before {content: \"\";position: absolute;border-left: 1px solid gray;box-sizing: border-box;top: 0;bottom: 0;left: 50%;z-index: -1;}#sk-container-id-1 div.sk-parallel-item {display: flex;flex-direction: column;z-index: 1;position: relative;background-color: white;}#sk-container-id-1 div.sk-parallel-item:first-child::after {align-self: flex-end;width: 50%;}#sk-container-id-1 div.sk-parallel-item:last-child::after {align-self: flex-start;width: 50%;}#sk-container-id-1 div.sk-parallel-item:only-child::after {width: 0;}#sk-container-id-1 div.sk-dashed-wrapped {border: 1px dashed gray;margin: 0 0.4em 0.5em 0.4em;box-sizing: border-box;padding-bottom: 0.4em;background-color: white;}#sk-container-id-1 div.sk-label label {font-family: monospace;font-weight: bold;display: inline-block;line-height: 1.2em;}#sk-container-id-1 div.sk-label-container {text-align: center;}#sk-container-id-1 div.sk-container {/* jupyter's `normalize.less` sets `[hidden] { display: none; }` but bootstrap.min.css set `[hidden] { display: none !important; }` so we also need the `!important` here to be able to override the default hidden behavior on the sphinx rendered scikit-learn.org. See: https://github.com/scikit-learn/scikit-learn/issues/21755 */display: inline-block !important;position: relative;}#sk-container-id-1 div.sk-text-repr-fallback {display: none;}</style><div id=\"sk-container-id-1\" class=\"sk-top-container\"><div class=\"sk-text-repr-fallback\"><pre>Pipeline(steps=[(&#x27;preprocessing&#x27;,\n",
       "                 ColumnTransformer(remainder=&#x27;passthrough&#x27;,\n",
       "                                   transformers=[(&#x27;remove_id_ej&#x27;, &#x27;drop&#x27;,\n",
       "                                                  [&#x27;Id&#x27;, &#x27;EJ&#x27;]),\n",
       "                                                 (&#x27;simple_impute&#x27;,\n",
       "                                                  SimpleImputer(),\n",
       "                                                  [&#x27;CB&#x27;, &#x27;CC&#x27;, &#x27;DU&#x27;, &#x27;FC&#x27;, &#x27;FL&#x27;,\n",
       "                                                   &#x27;FS&#x27;, &#x27;GL&#x27;])])),\n",
       "                (&#x27;impute&#x27;,\n",
       "                 ColumnTransformer(remainder=&#x27;passthrough&#x27;,\n",
       "                                   transformers=[(&#x27;Knn_impute&#x27;, KNNImputer(),\n",
       "                                                  slice(0, 55, None))])),\n",
       "                (&#x27;rfc&#x27;, RandomForestClassifier(random_state=0))])</pre><b>In a Jupyter environment, please rerun this cell to show the HTML representation or trust the notebook. <br />On GitHub, the HTML representation is unable to render, please try loading this page with nbviewer.org.</b></div><div class=\"sk-container\" hidden><div class=\"sk-item sk-dashed-wrapped\"><div class=\"sk-label-container\"><div class=\"sk-label sk-toggleable\"><input class=\"sk-toggleable__control sk-hidden--visually\" id=\"sk-estimator-id-1\" type=\"checkbox\" ><label for=\"sk-estimator-id-1\" class=\"sk-toggleable__label sk-toggleable__label-arrow\">Pipeline</label><div class=\"sk-toggleable__content\"><pre>Pipeline(steps=[(&#x27;preprocessing&#x27;,\n",
       "                 ColumnTransformer(remainder=&#x27;passthrough&#x27;,\n",
       "                                   transformers=[(&#x27;remove_id_ej&#x27;, &#x27;drop&#x27;,\n",
       "                                                  [&#x27;Id&#x27;, &#x27;EJ&#x27;]),\n",
       "                                                 (&#x27;simple_impute&#x27;,\n",
       "                                                  SimpleImputer(),\n",
       "                                                  [&#x27;CB&#x27;, &#x27;CC&#x27;, &#x27;DU&#x27;, &#x27;FC&#x27;, &#x27;FL&#x27;,\n",
       "                                                   &#x27;FS&#x27;, &#x27;GL&#x27;])])),\n",
       "                (&#x27;impute&#x27;,\n",
       "                 ColumnTransformer(remainder=&#x27;passthrough&#x27;,\n",
       "                                   transformers=[(&#x27;Knn_impute&#x27;, KNNImputer(),\n",
       "                                                  slice(0, 55, None))])),\n",
       "                (&#x27;rfc&#x27;, RandomForestClassifier(random_state=0))])</pre></div></div></div><div class=\"sk-serial\"><div class=\"sk-item sk-dashed-wrapped\"><div class=\"sk-label-container\"><div class=\"sk-label sk-toggleable\"><input class=\"sk-toggleable__control sk-hidden--visually\" id=\"sk-estimator-id-2\" type=\"checkbox\" ><label for=\"sk-estimator-id-2\" class=\"sk-toggleable__label sk-toggleable__label-arrow\">preprocessing: ColumnTransformer</label><div class=\"sk-toggleable__content\"><pre>ColumnTransformer(remainder=&#x27;passthrough&#x27;,\n",
       "                  transformers=[(&#x27;remove_id_ej&#x27;, &#x27;drop&#x27;, [&#x27;Id&#x27;, &#x27;EJ&#x27;]),\n",
       "                                (&#x27;simple_impute&#x27;, SimpleImputer(),\n",
       "                                 [&#x27;CB&#x27;, &#x27;CC&#x27;, &#x27;DU&#x27;, &#x27;FC&#x27;, &#x27;FL&#x27;, &#x27;FS&#x27;, &#x27;GL&#x27;])])</pre></div></div></div><div class=\"sk-parallel\"><div class=\"sk-parallel-item\"><div class=\"sk-item\"><div class=\"sk-label-container\"><div class=\"sk-label sk-toggleable\"><input class=\"sk-toggleable__control sk-hidden--visually\" id=\"sk-estimator-id-3\" type=\"checkbox\" ><label for=\"sk-estimator-id-3\" class=\"sk-toggleable__label sk-toggleable__label-arrow\">remove_id_ej</label><div class=\"sk-toggleable__content\"><pre>[&#x27;Id&#x27;, &#x27;EJ&#x27;]</pre></div></div></div><div class=\"sk-serial\"><div class=\"sk-item\"><div class=\"sk-estimator sk-toggleable\"><input class=\"sk-toggleable__control sk-hidden--visually\" id=\"sk-estimator-id-4\" type=\"checkbox\" ><label for=\"sk-estimator-id-4\" class=\"sk-toggleable__label sk-toggleable__label-arrow\">drop</label><div class=\"sk-toggleable__content\"><pre>drop</pre></div></div></div></div></div></div><div class=\"sk-parallel-item\"><div class=\"sk-item\"><div class=\"sk-label-container\"><div class=\"sk-label sk-toggleable\"><input class=\"sk-toggleable__control sk-hidden--visually\" id=\"sk-estimator-id-5\" type=\"checkbox\" ><label for=\"sk-estimator-id-5\" class=\"sk-toggleable__label sk-toggleable__label-arrow\">simple_impute</label><div class=\"sk-toggleable__content\"><pre>[&#x27;CB&#x27;, &#x27;CC&#x27;, &#x27;DU&#x27;, &#x27;FC&#x27;, &#x27;FL&#x27;, &#x27;FS&#x27;, &#x27;GL&#x27;]</pre></div></div></div><div class=\"sk-serial\"><div class=\"sk-item\"><div class=\"sk-estimator sk-toggleable\"><input class=\"sk-toggleable__control sk-hidden--visually\" id=\"sk-estimator-id-6\" type=\"checkbox\" ><label for=\"sk-estimator-id-6\" class=\"sk-toggleable__label sk-toggleable__label-arrow\">SimpleImputer</label><div class=\"sk-toggleable__content\"><pre>SimpleImputer()</pre></div></div></div></div></div></div><div class=\"sk-parallel-item\"><div class=\"sk-item\"><div class=\"sk-label-container\"><div class=\"sk-label sk-toggleable\"><input class=\"sk-toggleable__control sk-hidden--visually\" id=\"sk-estimator-id-7\" type=\"checkbox\" ><label for=\"sk-estimator-id-7\" class=\"sk-toggleable__label sk-toggleable__label-arrow\">remainder</label><div class=\"sk-toggleable__content\"><pre>[&#x27;AB&#x27;, &#x27;AF&#x27;, &#x27;AH&#x27;, &#x27;AM&#x27;, &#x27;AR&#x27;, &#x27;AX&#x27;, &#x27;AY&#x27;, &#x27;AZ&#x27;, &#x27;BC&#x27;, &#x27;BD &#x27;, &#x27;BN&#x27;, &#x27;BP&#x27;, &#x27;BQ&#x27;, &#x27;BR&#x27;, &#x27;BZ&#x27;, &#x27;CD &#x27;, &#x27;CF&#x27;, &#x27;CH&#x27;, &#x27;CL&#x27;, &#x27;CR&#x27;, &#x27;CS&#x27;, &#x27;CU&#x27;, &#x27;CW &#x27;, &#x27;DA&#x27;, &#x27;DE&#x27;, &#x27;DF&#x27;, &#x27;DH&#x27;, &#x27;DI&#x27;, &#x27;DL&#x27;, &#x27;DN&#x27;, &#x27;DV&#x27;, &#x27;DY&#x27;, &#x27;EB&#x27;, &#x27;EE&#x27;, &#x27;EG&#x27;, &#x27;EH&#x27;, &#x27;EL&#x27;, &#x27;EP&#x27;, &#x27;EU&#x27;, &#x27;FD &#x27;, &#x27;FE&#x27;, &#x27;FI&#x27;, &#x27;FR&#x27;, &#x27;GB&#x27;, &#x27;GE&#x27;, &#x27;GF&#x27;, &#x27;GH&#x27;, &#x27;GI&#x27;]</pre></div></div></div><div class=\"sk-serial\"><div class=\"sk-item\"><div class=\"sk-estimator sk-toggleable\"><input class=\"sk-toggleable__control sk-hidden--visually\" id=\"sk-estimator-id-8\" type=\"checkbox\" ><label for=\"sk-estimator-id-8\" class=\"sk-toggleable__label sk-toggleable__label-arrow\">passthrough</label><div class=\"sk-toggleable__content\"><pre>passthrough</pre></div></div></div></div></div></div></div></div><div class=\"sk-item sk-dashed-wrapped\"><div class=\"sk-label-container\"><div class=\"sk-label sk-toggleable\"><input class=\"sk-toggleable__control sk-hidden--visually\" id=\"sk-estimator-id-9\" type=\"checkbox\" ><label for=\"sk-estimator-id-9\" class=\"sk-toggleable__label sk-toggleable__label-arrow\">impute: ColumnTransformer</label><div class=\"sk-toggleable__content\"><pre>ColumnTransformer(remainder=&#x27;passthrough&#x27;,\n",
       "                  transformers=[(&#x27;Knn_impute&#x27;, KNNImputer(),\n",
       "                                 slice(0, 55, None))])</pre></div></div></div><div class=\"sk-parallel\"><div class=\"sk-parallel-item\"><div class=\"sk-item\"><div class=\"sk-label-container\"><div class=\"sk-label sk-toggleable\"><input class=\"sk-toggleable__control sk-hidden--visually\" id=\"sk-estimator-id-10\" type=\"checkbox\" ><label for=\"sk-estimator-id-10\" class=\"sk-toggleable__label sk-toggleable__label-arrow\">Knn_impute</label><div class=\"sk-toggleable__content\"><pre>slice(0, 55, None)</pre></div></div></div><div class=\"sk-serial\"><div class=\"sk-item\"><div class=\"sk-estimator sk-toggleable\"><input class=\"sk-toggleable__control sk-hidden--visually\" id=\"sk-estimator-id-11\" type=\"checkbox\" ><label for=\"sk-estimator-id-11\" class=\"sk-toggleable__label sk-toggleable__label-arrow\">KNNImputer</label><div class=\"sk-toggleable__content\"><pre>KNNImputer()</pre></div></div></div></div></div></div><div class=\"sk-parallel-item\"><div class=\"sk-item\"><div class=\"sk-label-container\"><div class=\"sk-label sk-toggleable\"><input class=\"sk-toggleable__control sk-hidden--visually\" id=\"sk-estimator-id-12\" type=\"checkbox\" ><label for=\"sk-estimator-id-12\" class=\"sk-toggleable__label sk-toggleable__label-arrow\">remainder</label><div class=\"sk-toggleable__content\"><pre>[]</pre></div></div></div><div class=\"sk-serial\"><div class=\"sk-item\"><div class=\"sk-estimator sk-toggleable\"><input class=\"sk-toggleable__control sk-hidden--visually\" id=\"sk-estimator-id-13\" type=\"checkbox\" ><label for=\"sk-estimator-id-13\" class=\"sk-toggleable__label sk-toggleable__label-arrow\">passthrough</label><div class=\"sk-toggleable__content\"><pre>passthrough</pre></div></div></div></div></div></div></div></div><div class=\"sk-item\"><div class=\"sk-estimator sk-toggleable\"><input class=\"sk-toggleable__control sk-hidden--visually\" id=\"sk-estimator-id-14\" type=\"checkbox\" ><label for=\"sk-estimator-id-14\" class=\"sk-toggleable__label sk-toggleable__label-arrow\">RandomForestClassifier</label><div class=\"sk-toggleable__content\"><pre>RandomForestClassifier(random_state=0)</pre></div></div></div></div></div></div></div>"
      ],
      "text/plain": [
       "Pipeline(steps=[('preprocessing',\n",
       "                 ColumnTransformer(remainder='passthrough',\n",
       "                                   transformers=[('remove_id_ej', 'drop',\n",
       "                                                  ['Id', 'EJ']),\n",
       "                                                 ('simple_impute',\n",
       "                                                  SimpleImputer(),\n",
       "                                                  ['CB', 'CC', 'DU', 'FC', 'FL',\n",
       "                                                   'FS', 'GL'])])),\n",
       "                ('impute',\n",
       "                 ColumnTransformer(remainder='passthrough',\n",
       "                                   transformers=[('Knn_impute', KNNImputer(),\n",
       "                                                  slice(0, 55, None))])),\n",
       "                ('rfc', RandomForestClassifier(random_state=0))])"
      ]
     },
     "execution_count": 3,
     "metadata": {},
     "output_type": "execute_result"
    }
   ],
   "source": [
    "\n",
    "X_train=df_train.drop(\"Class\",inplace=False,axis=1)\n",
    "Y_train=df_train[\"Class\"]\n",
    "\n",
    "transformer1 = ColumnTransformer(transformers=[\n",
    "    ('remove_id_ej', 'drop', ['Id','EJ']),\n",
    "    ('simple_impute',SimpleImputer(),['CB','CC','DU','FC','FL','FS','GL'])\n",
    "    #('OHE',OneHotEncoder(drop='first'),['EJ'])\n",
    "\n",
    "],remainder='passthrough')\n",
    "\n",
    "\n",
    "transformer2 = ColumnTransformer(\n",
    "    [('Knn_impute',KNNImputer(),slice(0, 55))]\n",
    "    ,remainder='passthrough')\n",
    "\n",
    "\n",
    "'''transformer3 = ColumnTransformer([\n",
    "    ('pca', PCA(n_components=34),slice(0, 55)),\n",
    "],remainder='passthrough')'''\n",
    "\n",
    "Model = Pipeline([\n",
    "    ('preprocessing', transformer1),\n",
    "    ('impute', transformer2),\n",
    "    #('pca', transformer3),\n",
    "    ('rfc', RandomForestClassifier(random_state=0))\n",
    "])\n",
    "\n",
    "Model.fit(X_train,Y_train)"
   ]
  },
  {
   "cell_type": "code",
   "execution_count": 4,
   "id": "d093b5e6",
   "metadata": {
    "execution": {
     "iopub.execute_input": "2023-07-02T17:43:54.418062Z",
     "iopub.status.busy": "2023-07-02T17:43:54.417647Z",
     "iopub.status.idle": "2023-07-02T17:43:54.447123Z",
     "shell.execute_reply": "2023-07-02T17:43:54.446302Z"
    },
    "papermill": {
     "duration": 0.03692,
     "end_time": "2023-07-02T17:43:54.449428",
     "exception": false,
     "start_time": "2023-07-02T17:43:54.412508",
     "status": "completed"
    },
    "tags": []
   },
   "outputs": [
    {
     "data": {
      "text/plain": [
       "array([[0.52, 0.48],\n",
       "       [0.52, 0.48],\n",
       "       [0.52, 0.48],\n",
       "       [0.52, 0.48],\n",
       "       [0.52, 0.48]])"
      ]
     },
     "execution_count": 4,
     "metadata": {},
     "output_type": "execute_result"
    }
   ],
   "source": [
    "predictions=Model.predict_proba(X_test)\n",
    "predictions"
   ]
  },
  {
   "cell_type": "code",
   "execution_count": 5,
   "id": "4069ef16",
   "metadata": {
    "execution": {
     "iopub.execute_input": "2023-07-02T17:43:54.458605Z",
     "iopub.status.busy": "2023-07-02T17:43:54.458202Z",
     "iopub.status.idle": "2023-07-02T17:43:54.481195Z",
     "shell.execute_reply": "2023-07-02T17:43:54.480063Z"
    },
    "papermill": {
     "duration": 0.03025,
     "end_time": "2023-07-02T17:43:54.483514",
     "exception": false,
     "start_time": "2023-07-02T17:43:54.453264",
     "status": "completed"
    },
    "tags": []
   },
   "outputs": [
    {
     "name": "stdout",
     "output_type": "stream",
     "text": [
      "<class 'pandas.core.frame.DataFrame'>\n",
      "RangeIndex: 5 entries, 0 to 4\n",
      "Data columns (total 3 columns):\n",
      " #   Column   Non-Null Count  Dtype  \n",
      "---  ------   --------------  -----  \n",
      " 0   Id       5 non-null      object \n",
      " 1   class_0  5 non-null      float64\n",
      " 2   class_1  5 non-null      float64\n",
      "dtypes: float64(2), object(1)\n",
      "memory usage: 248.0+ bytes\n"
     ]
    }
   ],
   "source": [
    "sub = X_test[['Id']].copy().copy()\n",
    "sub['class_0'] = predictions[:,0]\n",
    "sub['class_1'] = predictions[:,1]\n",
    "sub.info()"
   ]
  },
  {
   "cell_type": "code",
   "execution_count": 6,
   "id": "c6b2300d",
   "metadata": {
    "execution": {
     "iopub.execute_input": "2023-07-02T17:43:54.492930Z",
     "iopub.status.busy": "2023-07-02T17:43:54.492519Z",
     "iopub.status.idle": "2023-07-02T17:43:54.504354Z",
     "shell.execute_reply": "2023-07-02T17:43:54.503164Z"
    },
    "papermill": {
     "duration": 0.019687,
     "end_time": "2023-07-02T17:43:54.507093",
     "exception": false,
     "start_time": "2023-07-02T17:43:54.487406",
     "status": "completed"
    },
    "tags": []
   },
   "outputs": [],
   "source": [
    "sub.to_csv('/kaggle/working/submission.csv', index=False)"
   ]
  }
 ],
 "metadata": {
  "kernelspec": {
   "display_name": "Python 3",
   "language": "python",
   "name": "python3"
  },
  "language_info": {
   "codemirror_mode": {
    "name": "ipython",
    "version": 3
   },
   "file_extension": ".py",
   "mimetype": "text/x-python",
   "name": "python",
   "nbconvert_exporter": "python",
   "pygments_lexer": "ipython3",
   "version": "3.10.10"
  },
  "papermill": {
   "default_parameters": {},
   "duration": 16.071198,
   "end_time": "2023-07-02T17:43:55.533926",
   "environment_variables": {},
   "exception": null,
   "input_path": "__notebook__.ipynb",
   "output_path": "__notebook__.ipynb",
   "parameters": {},
   "start_time": "2023-07-02T17:43:39.462728",
   "version": "2.4.0"
  }
 },
 "nbformat": 4,
 "nbformat_minor": 5
}
